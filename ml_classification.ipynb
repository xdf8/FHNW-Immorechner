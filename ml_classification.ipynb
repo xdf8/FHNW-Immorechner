{
 "cells": [
  {
   "cell_type": "markdown",
   "metadata": {
    "cell_id": "00000-0a6a3245-9a73-4bc1-8aa1-549ca9b68141",
    "deepnote_cell_type": "markdown",
    "output_cleared": false,
    "tags": []
   },
   "source": [
    "# Klassifikation des Objekttyps"
   ]
  },
  {
   "cell_type": "code",
   "execution_count": 1,
   "metadata": {
    "cell_id": "00001-5b058abc-92a8-4d7a-80f7-07c4dfbd5b13",
    "deepnote_cell_type": "code",
    "execution_millis": 1617,
    "execution_start": 1608893760168,
    "output_cleared": false,
    "source_hash": "4e952ff0",
    "tags": []
   },
   "outputs": [],
   "source": [
    "import pandas as pd\n",
    "import numpy as np\n",
    "from pandas.api.types import is_object_dtype\n",
    "\n",
    "import matplotlib.pyplot as plt\n",
    "from matplotlib.colors import ListedColormap\n",
    "import seaborn as sns\n",
    "\n",
    "import sklearn\n",
    "from sklearn.model_selection import train_test_split, RandomizedSearchCV\n",
    "from sklearn.preprocessing import StandardScaler\n",
    "from sklearn.neighbors import KNeighborsClassifier\n",
    "from sklearn.ensemble import RandomForestClassifier\n",
    "from sklearn.neural_network import MLPClassifier\n",
    "import sklearn.metrics\n",
    "import xgboost as xgb\n",
    "import lightgbm as lgb\n",
    "\n",
    "from sklearn.inspection import permutation_importance\n",
    "\n",
    "from imblearn.over_sampling import RandomOverSampler\n",
    "from imblearn.over_sampling import SMOTE, ADASYN\n",
    "\n",
    "from helper_functions import preprocessing\n",
    "from helper_functions.metrics import *\n",
    "import datetime\n",
    "## Bayesian Optimization\n",
    "from bayes_opt import BayesianOptimization\n",
    "from bayes_opt.logger import JSONLogger\n",
    "from bayes_opt.event import Events"
   ]
  },
  {
   "cell_type": "code",
   "execution_count": 2,
   "metadata": {
    "cell_id": "00002-66e7ffd6-9a1e-47d4-84a7-966c25354320",
    "deepnote_cell_type": "code",
    "execution_millis": 1665,
    "execution_start": 1608728055960,
    "output_cleared": false,
    "source_hash": "fbde2775",
    "tags": []
   },
   "outputs": [],
   "source": [
    "#read in data\n",
    "csv_data = pd.read_csv('immo_dev_data.csv')"
   ]
  },
  {
   "cell_type": "markdown",
   "metadata": {},
   "source": [
    "Für die Klassifikationsaufgabe haben wir folgende Teilaufgaben:\n",
    "\n",
    "1. Entwickle und vergleiche drei sinnvolle Modelle zur Klassifikation von Immobilien Objekten hinsichtlich `GroupNameDe`. \n",
    "2. Was sind sinnvolle Metriken zur Messung der Genaugikeit der Vorhersage im vorliegenden Fall? \n",
    "3. Rapportiere diese Metrik(en) mit einer Abschätzung des Fehlers für alle drei Modelle.\n",
    "\n",
    "## Metriken\n",
    "\n",
    "Wir beginnen mit 2., den Metriken. Hierfür müssen wir uns als erstes einen Überblick über unsere Zielvariable verschaffen. Schauen wir einmal, wie viele verschiedene Objekttypen es gibt und wie viele Objekte es für jeden Typen gibt."
   ]
  },
  {
   "cell_type": "code",
   "execution_count": 3,
   "metadata": {},
   "outputs": [
    {
     "data": {
      "image/png": "[encoded data removed]",
      "text/plain": [
       "<Figure size 720x360 with 1 Axes>"
      ]
     },
     "metadata": {
      "needs_background": "light"
     },
     "output_type": "display_data"
    }
   ],
   "source": [
    "csv_data['GroupNameDe'].value_counts().plot(kind='bar', figsize=(10, 5), rot = 90)\n",
    "plt.xlabel(\"Kategorie\")\n",
    "plt.ylabel(\"Anzahl Objekte\")\n",
    "plt.title(\"Anzahl Wohnobjekte pro Kategorie\")\n",
    "plt.show()"
   ]
  },
  {
   "cell_type": "markdown",
   "metadata": {},
   "source": [
    "Man kann im Plot sehr gut erkennen, dass es sich hier im eine ungleichmäsige Verteilung der Kategorien handelt. Da man einige Kategorien gar nicht erkennen kann, schauen wir noch die Zahlen an:"
   ]
  },
  {
   "cell_type": "code",
   "execution_count": 4,
   "metadata": {},
   "outputs": [
    {
     "data": {
      "text/plain": [
       "Wohnung              77499\n",
       "Haus                 50265\n",
       "Doppelhaus            8397\n",
       "Attikawohnung         6215\n",
       "Maisonettewohnung     5517\n",
       "Reihenhaus            4168\n",
       "Terassenhaus           533\n",
       "Loftwohnung            474\n",
       "Mehrfamilienhaus       444\n",
       "Zimmer                  89\n",
       "Anderes Haus            26\n",
       "Name: GroupNameDe, dtype: int64"
      ]
     },
     "execution_count": 4,
     "metadata": {},
     "output_type": "execute_result"
    }
   ],
   "source": [
    "csv_data['GroupNameDe'].value_counts()"
   ]
  },
  {
   "cell_type": "markdown",
   "metadata": {},
   "source": [
    "Die Kategorie *Wohnung* ist mit 77'499 Objekten gegenüber den 26 Objekten in *Anderes Haus* mehr als 2'980 mal öfter vertreten. Insgesammt sind es 153'627 Objekte, von denen 127'764 in den \"Top Zwei\" der Kategorien vorkommen; das sind 83% aller Objekte. Um ein gutes Modell erstellen zu können, müssen wir diese Verteilung in Betracht ziehen. Somit müssen wir auch eine Metrik auswählen, die das Ganze widerspiegelt.\n",
    "\n",
    "Die *Accuracy* oder Genauigkeit ist in diesem Fall eine schlechte Metrik. Sie beschreibt, wie viele Objekte richtig klassifiziert wurden. Wenn nur Wohnungen und Häuser korrekt eingeordnet werden und alles andere falsch, ist die Accuracy trotzdem 83%, obwohl unser Modell effektiv nur zwei Kategorien richtig bestimmt.\n",
    "Aus diesem Grund haben wir uns für den *[F1-Score](https://en.wikipedia.org/wiki/F-score)* entschieden. Genauer gesagt schauen wir uns die Scores pro Kategorie an und den ungewichteten Durchschnitt aller Scores.\n",
    "\n",
    "## Resampling\n",
    "\n",
    "Damit die Modelle besser performen, kann man die Trainingsdaten resamplen. Es gibt zwei verschiedene Arten Daten zu resamplen: Under- und Oversampling. \n",
    "\n",
    "### Undersampling\n",
    "\n",
    "Beim Undersampling werden die Daten reduziert. Man entfernt Objekte, die den \"grossen\" Klassen angehören, und das (optimalerweise) solange, bis überall gleich viele Objekte existieren. Da unsere kleinste Klasse nur 26 Objekte hat, ist diese Methode für unseren Fall nicht sinnvoll.\n",
    "\n",
    "### Oversampling\n",
    "\n",
    "Oversampling bedeutet, dem Datensatz werden neue Objekte hinzugefügt um eine \"Anzahl\"-Balance zwischen allen Klassen herzustellen. Hierfür kann man bestehende Objekte zufällig auswählen und mehrmals hinzufügen bzw. kopieren oder komplett neue Objekte – basierend auf den bereits existierenden – erstellen. Dies funktioniert beispielsweise mit der [SMOTE](https://en.wikipedia.org/wiki/Oversampling_and_undersampling_in_data_analysis#SMOTE) Methode. Hiermit werden wir uns auch beschäftigen."
   ]
  },
  {
   "cell_type": "code",
   "execution_count": 5,
   "metadata": {
    "cell_id": "00006-b9ac9532-2666-46f7-b2d2-20505dce2a54",
    "deepnote_cell_type": "code",
    "execution_millis": 186,
    "execution_start": 1608728057714,
    "output_cleared": false,
    "source_hash": "3792722e",
    "tags": []
   },
   "outputs": [],
   "source": [
    "#prepro = preprocessing.preprocessor(train_data, y_var='GroupNameDe')#, cols_to_drop=['StreetAndNr', 'LastUpdate', 'Locality', 'Id', 'Zip'])#, 'Id'])\n",
    "#prepro.preprocess()\n",
    "csv_data_fe = csv_data.copy()\n",
    "csv_data_fe['Zip'] = (csv_data_fe['Zip']/100).astype('int8')\n",
    "prepro = preprocessing.preprocessor(csv_data_fe, y_var='GroupNameDe', method_to_encode='onehot_encode', cols_to_drop=['Id', 'LastUpdate', 'Locality', 'StreetAndNr', 'Longitude', 'Latitude', 'HouseObject', 'RealEstateTypeId'], numbers_to_encode=['Zip'], test_frac= 0.1)\n",
    "prepro.preprocess()\n",
    "\n",
    "X_train = prepro.X_train\n",
    "X_test = prepro.X_test\n",
    "\n",
    "y_train = prepro.y_train\n",
    "y_test = prepro.y_test"
   ]
  },
  {
   "cell_type": "code",
   "execution_count": 6,
   "metadata": {
    "cell_id": "00007-e0f264c1-9c23-417f-a447-0247aa117474",
    "deepnote_cell_type": "code",
    "execution_millis": 349,
    "execution_start": 1608728058000,
    "output_cleared": false
   },
   "outputs": [],
   "source": [
    "ros = RandomOverSampler(random_state = 69)\n",
    "X_random_, y_random_ = ros.fit_resample(X_train, y_train)\n",
    "X_random = X_random_.sample(len(X_train), random_state = 69)\n",
    "y_random = y_random_.iloc[X_random.index]"
   ]
  },
  {
   "cell_type": "code",
   "execution_count": 7,
   "metadata": {
    "cell_id": "00026-65214ae0-5544-4783-8ae2-cccacb4d0e22",
    "deepnote_cell_type": "code",
    "output_cleared": false
   },
   "outputs": [],
   "source": [
    "smote = SMOTE(random_state = 69, sampling_strategy = 'all')\n",
    "X_smote_, y_smote_ = smote.fit_resample(X_train, y_train)\n",
    "X_smote = X_smote_.sample(len(X_train), random_state = 69)\n",
    "y_smote = y_smote_.iloc[X_smote.index]"
   ]
  },
  {
   "cell_type": "markdown",
   "metadata": {},
   "source": [
    "So siehen die Daten nach dem Resampling aus:"
   ]
  },
  {
   "cell_type": "code",
   "execution_count": 8,
   "metadata": {},
   "outputs": [
    {
     "data": {
      "image/png": "[encoded data removed]",
      "text/plain": [
       "<Figure size 720x360 with 1 Axes>"
      ]
     },
     "metadata": {
      "needs_background": "light"
     },
     "output_type": "display_data"
    }
   ],
   "source": [
    "y_random.value_counts().plot(kind='bar', figsize=(10, 5), rot = 90)\n",
    "plt.xlabel(\"Kategorie\")\n",
    "plt.ylabel(\"Anzahl Objekte\")\n",
    "plt.title(\"Anzahl Wohnobjekte pro Kategorie (Random resampling)\")\n",
    "plt.show()"
   ]
  },
  {
   "cell_type": "markdown",
   "metadata": {
    "cell_id": "00008-a09c913f-621e-469b-bc8b-01a2d72b1365",
    "deepnote_cell_type": "markdown",
    "output_cleared": false,
    "tags": []
   },
   "source": [
    "# Modellauswahl\n",
    "\n",
    "Weiter geht es mit 1. aus der Aufgabenstellung: Entwickle und vergleiche drei sinnvolle Modelle zur Klassifikation von Immobilien Objekten hinsichtlich `GroupNameDe`.\n",
    "\n",
    "Wir haben uns für folgende Modelle entschieden: \n",
    "\n",
    "- K-Nearest Neighbors\n",
    "- Random Forrest\n",
    "- XGBoost\n",
    "- LightGBM\n",
    "\n",
    "Als erstes werden die Modelle auf den unveränderten Daten trainiert, danach auf zufällig geresampleten Daten und dann auf den SMOTE Daten. Damit das Training jedoch nicht allzulange dauert, werden von den beiden oversampleten Datasets zufällige Objekte ausgewählt bis diese Datasets gleich gross sind wie das originale."
   ]
  },
  {
   "cell_type": "markdown",
   "metadata": {},
   "source": [
    "## K-Nearest Neighbors"
   ]
  },
  {
   "cell_type": "code",
   "execution_count": 9,
   "metadata": {
    "cell_id": "00009-cd648fb7-7e0f-4c9f-94f4-c7e4e204f428",
    "deepnote_cell_type": "code",
    "execution_millis": 4046,
    "execution_start": 1608728058392,
    "output_cleared": false,
    "source_hash": "7546a872",
    "tags": []
   },
   "outputs": [
    {
     "data": {
      "text/plain": [
       "KNeighborsClassifier(n_jobs=-1)"
      ]
     },
     "execution_count": 9,
     "metadata": {},
     "output_type": "execute_result"
    }
   ],
   "source": [
    "knn = KNeighborsClassifier(n_jobs = -1)\n",
    "knn.fit(X = X_train, y = y_train)"
   ]
  },
  {
   "cell_type": "code",
   "execution_count": 10,
   "metadata": {},
   "outputs": [
    {
     "data": {
      "text/plain": [
       "KNeighborsClassifier(n_jobs=-1)"
      ]
     },
     "execution_count": 10,
     "metadata": {},
     "output_type": "execute_result"
    }
   ],
   "source": [
    "knn_rnd = KNeighborsClassifier(n_jobs = -1)\n",
    "knn_rnd.fit(X = X_random, y = y_random)"
   ]
  },
  {
   "cell_type": "code",
   "execution_count": 11,
   "metadata": {},
   "outputs": [
    {
     "data": {
      "text/plain": [
       "KNeighborsClassifier(n_jobs=-1)"
      ]
     },
     "execution_count": 11,
     "metadata": {},
     "output_type": "execute_result"
    }
   ],
   "source": [
    "knn_smote = KNeighborsClassifier(n_jobs = -1)\n",
    "knn_smote.fit(X = X_smote, y = y_smote)"
   ]
  },
  {
   "cell_type": "markdown",
   "metadata": {},
   "source": [
    "### Prediction und F1-Scores"
   ]
  },
  {
   "cell_type": "code",
   "execution_count": 12,
   "metadata": {
    "cell_id": "00010-315d8e63-2c45-4785-b0b4-59735c4f59b8",
    "deepnote_cell_type": "code",
    "execution_millis": 5128,
    "execution_start": 1608728062480,
    "output_cleared": false,
    "source_hash": "70abdc04",
    "tags": []
   },
   "outputs": [],
   "source": [
    "knn_y_pred = knn.predict(X = X_test)\n",
    "knn_y_pred_rnd = knn_rnd.predict(X = X_test)\n",
    "knn_y_pred_smote = knn_smote.predict(X = X_test)"
   ]
  },
  {
   "cell_type": "code",
   "execution_count": 13,
   "metadata": {},
   "outputs": [
    {
     "name": "stdout",
     "output_type": "stream",
     "text": [
      "F1-Score KNN imbalanced Data:\n"
     ]
    },
    {
     "data": {
      "text/plain": [
       "0.252"
      ]
     },
     "execution_count": 13,
     "metadata": {},
     "output_type": "execute_result"
    }
   ],
   "source": [
    "print('F1-Score KNN imbalanced Data:')\n",
    "np.round(sklearn.metrics.f1_score(y_test, knn_y_pred, average = 'macro'), decimals = 3)"
   ]
  },
  {
   "cell_type": "code",
   "execution_count": 14,
   "metadata": {},
   "outputs": [
    {
     "name": "stdout",
     "output_type": "stream",
     "text": [
      "F1-Score KNN randomly resampled Data:\n"
     ]
    },
    {
     "data": {
      "text/plain": [
       "0.207"
      ]
     },
     "execution_count": 14,
     "metadata": {},
     "output_type": "execute_result"
    }
   ],
   "source": [
    "print('F1-Score KNN randomly resampled Data:')\n",
    "np.round(sklearn.metrics.f1_score(y_test, knn_y_pred_rnd, average = 'macro'), decimals = 3)"
   ]
  },
  {
   "cell_type": "code",
   "execution_count": 15,
   "metadata": {},
   "outputs": [
    {
     "name": "stdout",
     "output_type": "stream",
     "text": [
      "F1-Score KNN SMOTE resampled Data:\n"
     ]
    },
    {
     "data": {
      "text/plain": [
       "0.202"
      ]
     },
     "execution_count": 15,
     "metadata": {},
     "output_type": "execute_result"
    }
   ],
   "source": [
    "print('F1-Score KNN SMOTE resampled Data:')\n",
    "np.round(sklearn.metrics.f1_score(y_test, knn_y_pred_smote, average = 'macro'), decimals = 3)"
   ]
  },
  {
   "cell_type": "markdown",
   "metadata": {
    "cell_id": "00014-e31f3766-000a-4782-b090-f874cc117439",
    "deepnote_cell_type": "markdown",
    "output_cleared": false,
    "tags": []
   },
   "source": [
    "## Random Forest"
   ]
  },
  {
   "cell_type": "code",
   "execution_count": 16,
   "metadata": {
    "cell_id": "00015-460ce3cd-46ea-4a04-974e-a250661f28d8",
    "deepnote_cell_type": "code",
    "execution_millis": 52475,
    "execution_start": 1607692152662,
    "output_cleared": false,
    "source_hash": "f95dfa02",
    "tags": []
   },
   "outputs": [
    {
     "data": {
      "text/plain": [
       "RandomForestClassifier(n_jobs=-1, random_state=69)"
      ]
     },
     "execution_count": 16,
     "metadata": {},
     "output_type": "execute_result"
    }
   ],
   "source": [
    "rfc = RandomForestClassifier(n_jobs = -1, random_state = 69)\n",
    "rfc.fit(X_train, y_train)"
   ]
  },
  {
   "cell_type": "code",
   "execution_count": 17,
   "metadata": {},
   "outputs": [
    {
     "data": {
      "text/plain": [
       "RandomForestClassifier(n_jobs=-1, random_state=69)"
      ]
     },
     "execution_count": 17,
     "metadata": {},
     "output_type": "execute_result"
    }
   ],
   "source": [
    "rfc_rnd = RandomForestClassifier(n_jobs = -1, random_state = 69)\n",
    "rfc_rnd.fit(X_random, y_random)"
   ]
  },
  {
   "cell_type": "code",
   "execution_count": 18,
   "metadata": {},
   "outputs": [
    {
     "data": {
      "text/plain": [
       "RandomForestClassifier(n_jobs=-1, random_state=69)"
      ]
     },
     "execution_count": 18,
     "metadata": {},
     "output_type": "execute_result"
    }
   ],
   "source": [
    "rfc_smote = RandomForestClassifier(n_jobs = -1, random_state = 69)\n",
    "rfc_smote.fit(X_smote, y_smote)"
   ]
  },
  {
   "cell_type": "markdown",
   "metadata": {},
   "source": [
    "### Prediction und F1-Scores"
   ]
  },
  {
   "cell_type": "code",
   "execution_count": 19,
   "metadata": {
    "cell_id": "00016-64fd95dd-a2a6-43e9-b444-3e1f0d2b00a8",
    "deepnote_cell_type": "code",
    "execution_millis": 1785,
    "execution_start": 1607692205137,
    "output_cleared": false,
    "source_hash": "7cec665f",
    "tags": []
   },
   "outputs": [],
   "source": [
    "rfc_y_pred = rfc.predict(X = X_test)\n",
    "rfc_y_pred_rnd = rfc_rnd.predict(X = X_test)\n",
    "rfc_y_pred_smote = rfc_smote.predict(X = X_test)"
   ]
  },
  {
   "cell_type": "code",
   "execution_count": 20,
   "metadata": {},
   "outputs": [
    {
     "name": "stdout",
     "output_type": "stream",
     "text": [
      "F1-Score Random Forest imbalanced Data:\n"
     ]
    },
    {
     "data": {
      "text/plain": [
       "0.364"
      ]
     },
     "execution_count": 20,
     "metadata": {},
     "output_type": "execute_result"
    }
   ],
   "source": [
    "print('F1-Score Random Forest imbalanced Data:')\n",
    "np.round(sklearn.metrics.f1_score(y_test, rfc_y_pred, average = 'macro'), decimals = 3)"
   ]
  },
  {
   "cell_type": "code",
   "execution_count": 21,
   "metadata": {},
   "outputs": [
    {
     "name": "stdout",
     "output_type": "stream",
     "text": [
      "F1-Score Random Forest randomly resampled Data:\n"
     ]
    },
    {
     "data": {
      "text/plain": [
       "0.42"
      ]
     },
     "execution_count": 21,
     "metadata": {},
     "output_type": "execute_result"
    }
   ],
   "source": [
    "print('F1-Score Random Forest randomly resampled Data:')\n",
    "np.round(sklearn.metrics.f1_score(y_test, rfc_y_pred_rnd, average = 'macro'), decimals = 3)"
   ]
  },
  {
   "cell_type": "code",
   "execution_count": 22,
   "metadata": {},
   "outputs": [
    {
     "name": "stdout",
     "output_type": "stream",
     "text": [
      "F1-Score Random Forest SMOTE resampled Data:\n"
     ]
    },
    {
     "data": {
      "text/plain": [
       "0.407"
      ]
     },
     "execution_count": 22,
     "metadata": {},
     "output_type": "execute_result"
    }
   ],
   "source": [
    "print('F1-Score Random Forest SMOTE resampled Data:')\n",
    "np.round(sklearn.metrics.f1_score(y_test, rfc_y_pred_smote, average = 'macro'), decimals = 3)"
   ]
  },
  {
   "cell_type": "markdown",
   "metadata": {
    "cell_id": "00018-95e13e03-2728-48d3-8031-53032408c407",
    "deepnote_cell_type": "markdown",
    "output_cleared": false,
    "tags": []
   },
   "source": [
    "## XGBoost"
   ]
  },
  {
   "cell_type": "code",
   "execution_count": 23,
   "metadata": {
    "cell_id": "00019-d4f44519-863f-4512-b73d-8372688a1e4b",
    "deepnote_cell_type": "code",
    "execution_millis": 107767,
    "execution_start": 1607692207470,
    "output_cleared": false,
    "source_hash": "3bb04101",
    "tags": []
   },
   "outputs": [
    {
     "name": "stderr",
     "output_type": "stream",
     "text": [
      "/Users/ericwinter/opt/miniconda3/envs/py38/lib/python3.8/site-packages/xgboost/sklearn.py:892: UserWarning: The use of label encoder in XGBClassifier is deprecated and will be removed in a future release. To remove this warning, do the following: 1) Pass option use_label_encoder=False when constructing XGBClassifier object; and 2) Encode your labels (y) as integers starting with 0, i.e. 0, 1, 2, ..., [num_class - 1].\n",
      "  warnings.warn(label_encoder_deprecation_msg, UserWarning)\n"
     ]
    },
    {
     "name": "stdout",
     "output_type": "stream",
     "text": [
      "[19:51:01] WARNING: /Users/travis/build/dmlc/xgboost/src/learner.cc:1061: Starting in XGBoost 1.3.0, the default evaluation metric used with the objective 'multi:softprob' was changed from 'merror' to 'mlogloss'. Explicitly set eval_metric if you'd like to restore the old behavior.\n"
     ]
    },
    {
     "data": {
      "text/plain": [
       "XGBClassifier(base_score=0.5, booster='gbtree', colsample_bylevel=1,\n",
       "              colsample_bynode=1, colsample_bytree=1, gamma=0, gpu_id=-1,\n",
       "              importance_type='gain', interaction_constraints='',\n",
       "              learning_rate=0.300000012, max_delta_step=0, max_depth=6,\n",
       "              min_child_weight=1, missing=nan, monotone_constraints='()',\n",
       "              n_estimators=100, n_jobs=-1, num_parallel_tree=1,\n",
       "              objective='multi:softprob', random_state=69, reg_alpha=0,\n",
       "              reg_lambda=1, scale_pos_weight=None, subsample=1,\n",
       "              tree_method='exact', validate_parameters=1, verbosity=None)"
      ]
     },
     "execution_count": 23,
     "metadata": {},
     "output_type": "execute_result"
    }
   ],
   "source": [
    "xgbc = xgb.XGBClassifier(n_jobs = -1, random_state = 69)\n",
    "xgbc.fit(X_train, y_train, verbose = False)"
   ]
  },
  {
   "cell_type": "code",
   "execution_count": 24,
   "metadata": {},
   "outputs": [
    {
     "name": "stdout",
     "output_type": "stream",
     "text": [
      "[19:54:57] WARNING: /Users/travis/build/dmlc/xgboost/src/learner.cc:1061: Starting in XGBoost 1.3.0, the default evaluation metric used with the objective 'multi:softprob' was changed from 'merror' to 'mlogloss'. Explicitly set eval_metric if you'd like to restore the old behavior.\n"
     ]
    },
    {
     "data": {
      "text/plain": [
       "XGBClassifier(base_score=0.5, booster='gbtree', colsample_bylevel=1,\n",
       "              colsample_bynode=1, colsample_bytree=1, gamma=0, gpu_id=-1,\n",
       "              importance_type='gain', interaction_constraints='',\n",
       "              learning_rate=0.300000012, max_delta_step=0, max_depth=6,\n",
       "              min_child_weight=1, missing=nan, monotone_constraints='()',\n",
       "              n_estimators=100, n_jobs=-1, num_parallel_tree=1,\n",
       "              objective='multi:softprob', random_state=69, reg_alpha=0,\n",
       "              reg_lambda=1, scale_pos_weight=None, subsample=1,\n",
       "              tree_method='exact', validate_parameters=1, verbosity=None)"
      ]
     },
     "execution_count": 24,
     "metadata": {},
     "output_type": "execute_result"
    }
   ],
   "source": [
    "xgbc_rnd = xgb.XGBClassifier(n_jobs = -1, random_state = 69)\n",
    "xgbc_rnd.fit(X_random, y_random, verbose = False)"
   ]
  },
  {
   "cell_type": "code",
   "execution_count": 25,
   "metadata": {},
   "outputs": [
    {
     "name": "stdout",
     "output_type": "stream",
     "text": [
      "[19:59:01] WARNING: /Users/travis/build/dmlc/xgboost/src/learner.cc:1061: Starting in XGBoost 1.3.0, the default evaluation metric used with the objective 'multi:softprob' was changed from 'merror' to 'mlogloss'. Explicitly set eval_metric if you'd like to restore the old behavior.\n"
     ]
    },
    {
     "data": {
      "text/plain": [
       "XGBClassifier(base_score=0.5, booster='gbtree', colsample_bylevel=1,\n",
       "              colsample_bynode=1, colsample_bytree=1, gamma=0, gpu_id=-1,\n",
       "              importance_type='gain', interaction_constraints='',\n",
       "              learning_rate=0.300000012, max_delta_step=0, max_depth=6,\n",
       "              min_child_weight=1, missing=nan, monotone_constraints='()',\n",
       "              n_estimators=100, n_jobs=-1, num_parallel_tree=1,\n",
       "              objective='multi:softprob', random_state=69, reg_alpha=0,\n",
       "              reg_lambda=1, scale_pos_weight=None, subsample=1,\n",
       "              tree_method='exact', validate_parameters=1, verbosity=None)"
      ]
     },
     "execution_count": 25,
     "metadata": {},
     "output_type": "execute_result"
    }
   ],
   "source": [
    "xgbc_smote = xgb.XGBClassifier(n_jobs = -1, random_state = 69)\n",
    "xgbc_smote.fit(X_smote, y_smote, verbose = False)"
   ]
  },
  {
   "cell_type": "markdown",
   "metadata": {},
   "source": [
    "### Prediction und F1-Scores"
   ]
  },
  {
   "cell_type": "code",
   "execution_count": 26,
   "metadata": {
    "cell_id": "00020-13b21eeb-4471-4865-a477-eaeb1ad95b73",
    "deepnote_cell_type": "code",
    "execution_millis": 1670,
    "execution_start": 1607692315237,
    "output_cleared": false,
    "source_hash": "d26e2ea6",
    "tags": []
   },
   "outputs": [],
   "source": [
    "xgbc_y_pred = xgbc.predict(X_test)\n",
    "xgbc_y_pred_rnd = xgbc_rnd.predict(X_test)\n",
    "xgbc_y_pred_smote = xgbc_smote.predict(X_test)"
   ]
  },
  {
   "cell_type": "code",
   "execution_count": 27,
   "metadata": {},
   "outputs": [
    {
     "name": "stdout",
     "output_type": "stream",
     "text": [
      "F1-Score XGBoost imbalanced Data:\n"
     ]
    },
    {
     "data": {
      "text/plain": [
       "0.387"
      ]
     },
     "execution_count": 27,
     "metadata": {},
     "output_type": "execute_result"
    }
   ],
   "source": [
    "print('F1-Score XGBoost imbalanced Data:')\n",
    "np.round(sklearn.metrics.f1_score(y_test, xgbc_y_pred, average = 'macro'), decimals = 3)"
   ]
  },
  {
   "cell_type": "code",
   "execution_count": 28,
   "metadata": {},
   "outputs": [
    {
     "name": "stdout",
     "output_type": "stream",
     "text": [
      "F1-Score XGBoost randomly resampled Data:\n"
     ]
    },
    {
     "data": {
      "text/plain": [
       "0.386"
      ]
     },
     "execution_count": 28,
     "metadata": {},
     "output_type": "execute_result"
    }
   ],
   "source": [
    "print('F1-Score XGBoost randomly resampled Data:')\n",
    "np.round(sklearn.metrics.f1_score(y_test, xgbc_y_pred_rnd, average = 'macro'), decimals = 3)"
   ]
  },
  {
   "cell_type": "code",
   "execution_count": 29,
   "metadata": {},
   "outputs": [
    {
     "name": "stdout",
     "output_type": "stream",
     "text": [
      "F1-Score XGBoost SMOTE resampled Data:\n"
     ]
    },
    {
     "data": {
      "text/plain": [
       "0.402"
      ]
     },
     "execution_count": 29,
     "metadata": {},
     "output_type": "execute_result"
    }
   ],
   "source": [
    "print('F1-Score XGBoost SMOTE resampled Data:')\n",
    "np.round(sklearn.metrics.f1_score(y_test, xgbc_y_pred_smote, average = 'macro'), decimals = 3)"
   ]
  },
  {
   "cell_type": "markdown",
   "metadata": {},
   "source": [
    "## LightGBM"
   ]
  },
  {
   "cell_type": "code",
   "execution_count": 30,
   "metadata": {},
   "outputs": [
    {
     "data": {
      "text/plain": [
       "LGBMClassifier(random_state=69)"
      ]
     },
     "execution_count": 30,
     "metadata": {},
     "output_type": "execute_result"
    }
   ],
   "source": [
    "lgbc = lgb.LGBMClassifier(n_jobs = -1, random_state = 69)\n",
    "lgbc.fit(X_train, y_train)"
   ]
  },
  {
   "cell_type": "code",
   "execution_count": 31,
   "metadata": {},
   "outputs": [
    {
     "data": {
      "text/plain": [
       "LGBMClassifier(random_state=69)"
      ]
     },
     "execution_count": 31,
     "metadata": {},
     "output_type": "execute_result"
    }
   ],
   "source": [
    "lgbc_rnd = lgb.LGBMClassifier(n_jobs = -1, random_state = 69)\n",
    "lgbc_rnd.fit(X_random, y_random)"
   ]
  },
  {
   "cell_type": "code",
   "execution_count": 32,
   "metadata": {},
   "outputs": [
    {
     "data": {
      "text/plain": [
       "LGBMClassifier(random_state=69)"
      ]
     },
     "execution_count": 32,
     "metadata": {},
     "output_type": "execute_result"
    }
   ],
   "source": [
    "lgbc_smote = lgb.LGBMClassifier(n_jobs = -1, random_state = 69)\n",
    "lgbc_smote.fit(X_smote, y_smote)"
   ]
  },
  {
   "cell_type": "markdown",
   "metadata": {},
   "source": [
    "### Prediction und F1-Scores"
   ]
  },
  {
   "cell_type": "code",
   "execution_count": 33,
   "metadata": {},
   "outputs": [],
   "source": [
    "lgbc_y_pred = lgbc.predict(X_test)\n",
    "lgbc_y_pred_rnd = lgbc_rnd.predict(X_test)\n",
    "lgbc_y_pred_smote = lgbc_smote.predict(X_test)"
   ]
  },
  {
   "cell_type": "code",
   "execution_count": 34,
   "metadata": {},
   "outputs": [
    {
     "name": "stdout",
     "output_type": "stream",
     "text": [
      "F1-Score LGBM imbalanced Data:\n"
     ]
    },
    {
     "data": {
      "text/plain": [
       "0.312"
      ]
     },
     "execution_count": 34,
     "metadata": {},
     "output_type": "execute_result"
    }
   ],
   "source": [
    "print('F1-Score LGBM imbalanced Data:')\n",
    "np.round(sklearn.metrics.f1_score(y_test, lgbc_y_pred, average = 'macro'), decimals = 3)"
   ]
  },
  {
   "cell_type": "code",
   "execution_count": 35,
   "metadata": {},
   "outputs": [
    {
     "name": "stdout",
     "output_type": "stream",
     "text": [
      "F1-Score LGBM randomly resampled Data:\n"
     ]
    },
    {
     "data": {
      "text/plain": [
       "0.379"
      ]
     },
     "execution_count": 35,
     "metadata": {},
     "output_type": "execute_result"
    }
   ],
   "source": [
    "print('F1-Score LGBM randomly resampled Data:')\n",
    "np.round(sklearn.metrics.f1_score(y_test, lgbc_y_pred_rnd, average = 'macro'), decimals = 3)"
   ]
  },
  {
   "cell_type": "code",
   "execution_count": 36,
   "metadata": {},
   "outputs": [
    {
     "name": "stdout",
     "output_type": "stream",
     "text": [
      "F1-Score LGBM SMOTE resampled Data:\n"
     ]
    },
    {
     "data": {
      "text/plain": [
       "0.399"
      ]
     },
     "execution_count": 36,
     "metadata": {},
     "output_type": "execute_result"
    }
   ],
   "source": [
    "print('F1-Score LGBM SMOTE resampled Data:')\n",
    "np.round(sklearn.metrics.f1_score(y_test, lgbc_y_pred_smote, average = 'macro'), decimals = 3)"
   ]
  },
  {
   "cell_type": "markdown",
   "metadata": {},
   "source": [
    "# Vergleich "
   ]
  },
  {
   "cell_type": "markdown",
   "metadata": {},
   "source": [
    "\n",
    "| Modell         \t| Daten               \t| F1-Score \t|\n",
    "|---------------\t|---------------------\t|----------\t|\n",
    "| KNN           \t| Imbalanced          \t| 0.254    \t|\n",
    "| KNN           \t| Random Oversampling \t| 0.201    \t|\n",
    "| KNN           \t| SMOTE Oversampling  \t| 0.196    \t|\n",
    "| Random Forest \t| Imbalanced          \t| 0.375    \t|\n",
    "| Random Forest \t| Random Oversampling \t| 0.473    \t|\n",
    "| Random Forest \t| SMOTE Oversampling  \t| 0.41    \t|\n",
    "| XGBoost       \t| Imbalanced          \t| 0.382    \t|\n",
    "| XGBoost       \t| Random Oversampling \t| 0.453    \t|\n",
    "| XGBoost       \t| SMOTE Oversampling  \t| 0.437    \t|\n",
    "| LightGBM      \t| Imbalanced          \t| 0.31     \t|\n",
    "| LightGBM      \t| Random Oversampling \t| 0.416    \t|\n",
    "| LightGBM      \t| SMOTE Oversampling  \t| 0.397    \t|\n",
    "\n",
    "Hinweis: Obwohl wo immer möglich ein random_state verwendet wurde, um eine Konsistenz der Werte zu garantieren, variieren diese dennoch pro Durchlauf. Dasselbe gilt später auch für die Confusion Matrix.\n",
    "\n",
    "Die F1-Scores sind breit gefächert: von 0.196 bis 0.473. Interessant ist, dass die Performance der Modelle, ausser dem KNN, am besten ist, wenn auf den zufällig resampleten Daten trainiert wurde. SMOTE ist auch besser als die imbalanced Daten, jedoch nie das beste. Der Random Forest und das XGBoost Modell sind sich in ihren Werten sehr ähnlich, LightGBM kommt kurz danach und das KNN ist mit Abstand das schlechteste Modell."
   ]
  },
  {
   "cell_type": "markdown",
   "metadata": {
    "cell_id": "00022-b9cd6a76-3136-4ebe-a0dd-035b7662eaea",
    "deepnote_cell_type": "markdown",
    "output_cleared": false,
    "tags": []
   },
   "source": [
    "# Hyperparameter tuning\n",
    "\n",
    "Aus Ressourcengründen werden wir nicht das beste Modell trainieren, sondern ein LightGBM-Modell. Es werden die randomly resampled Daten zum Trainieren verwendet."
   ]
  },
  {
   "cell_type": "code",
   "execution_count": null,
   "metadata": {},
   "outputs": [],
   "source": [
    "start = datetime.datetime.now()\n",
    "\n",
    "def bay_opt(learning_rate, max_depth, n_estimators, num_leaves, reg_alpha, reg_lambda):\n",
    "    ### cast certain inputs to int:\n",
    "    max_depth = int(max_depth)\n",
    "    n_estimators = int(n_estimators)\n",
    "    num_leaves = int(num_leaves)\n",
    "    # Instantiation \n",
    "    lgb_c = lgb.LGBMClassifier(\n",
    "        n_jobs = -1, seed = 42, learning_rate = learning_rate, max_depth = max_depth, n_estimators = n_estimators,\n",
    "        num_leaves = num_leaves, reg_alpha = reg_alpha, reg_lambda = reg_lambda\n",
    "    )\n",
    "    # Fitting the model \n",
    "    lgb_c.fit(X_random.to_numpy(), y_random.to_numpy(), early_stopping_rounds=15, eval_set=[(X_test.to_numpy(), y_test.to_numpy())], verbose = 0)\n",
    "    # Predict the model \n",
    "    pred = lgb_c.predict(X_test.to_numpy())\n",
    "    \n",
    "    # Current Accuracy.\n",
    "    return sklearn.metrics.f1_score(y_test, pred, average = 'macro')\n",
    "\n",
    "\n",
    "# Bounded region of parameter space\n",
    "param_bounds =   {'learning_rate': (0.005, 0.1),\n",
    "                'reg_alpha': (0, 5),\n",
    "                'reg_lambda': (0, 50),\n",
    "                'max_depth': (5, 500),\n",
    "                'n_estimators' : (100, 1000),\n",
    "                'num_leaves' : (1, 100)\n",
    "               }\n",
    "\n",
    "# Define optimizer\n",
    "optimizer_lgb = BayesianOptimization(\n",
    "    f=bay_opt,\n",
    "    pbounds=param_bounds,\n",
    "    random_state=42,\n",
    ")\n",
    "\n",
    "# Start the optimization\n",
    "print(\"Starting the optimization.\")\n",
    "optimizer_lgb.maximize(\n",
    "    init_points=5,\n",
    "    n_iter=100,\n",
    ")\n",
    "\n",
    "\n",
    "print(datetime.datetime.now() - start)"
   ]
  },
  {
   "cell_type": "markdown",
   "metadata": {},
   "source": [
    "Das optimierte Modell hat einen F1-Score von 0.49. Im Weiteren inspizieren und vergleichen wir dieses Modell genauer."
   ]
  },
  {
   "cell_type": "code",
   "execution_count": 37,
   "metadata": {},
   "outputs": [],
   "source": [
    "#|   iter    |  target   | learni... | max_depth | n_esti... | num_le... | reg_alpha | reg_la... |\n",
    "#|  13       |  0.4962   |  0.07517  |  340.1    |  344.4    |  89.66    |  1.136    |  4.348    |\n",
    "\n",
    "lgbc_best = lgb.LGBMClassifier(\n",
    "        n_jobs = -1, seed = 42, learning_rate = 0.07517, max_depth = 340, n_estimators = 344,\n",
    "        num_leaves = 90, reg_alpha = 1.136, reg_lambda = 4.348\n",
    ")\n",
    "\n",
    "lgbc_best.fit(X_random, y_random)\n",
    "lgbc_y_pred_best = lgbc_best.predict(X_test)"
   ]
  },
  {
   "cell_type": "markdown",
   "metadata": {},
   "source": [
    "# Vergleich des Besten und schlechtesten Modells"
   ]
  },
  {
   "cell_type": "markdown",
   "metadata": {},
   "source": [
    "## Schlechtestes Modell\n",
    "\n",
    "Betrachten wir zwei verschiedene Modelle im Detail. Konkret vergleichen wir:\n",
    "\n",
    "- F1-Score Macro\n",
    "- Classification report\n",
    "- Confusion matrix\n",
    "\n",
    "### F1-Score\n",
    "\n",
    "Das schlechteste Modell ist das KNN, das auf den SMOTE Daten trainiert wurde. Es erzielt einen F1-Score von 0.196. Unser bestes, optimiertes Modell erzielt 0.49. Doch was bedeutet das für die einzelnen Klassen?\n",
    "\n",
    "### Classification report\n",
    "\n",
    "Der Classification Report gibt Auskunft über wichtigen Metriken, mit denen man eine Klassifikation bewerten und einschätzen kann. Diese Metriken sind:\n",
    "\n",
    "#### Precision\n",
    "\n",
    "$\\frac{True Prositives}{True Prositives + False Prositives}$\n",
    "\n",
    "#### Recall\n",
    "\n",
    "$\\frac{True Prositives}{True Prositives + False Negatives}$\n",
    "\n",
    "#### F1-Score\n",
    "\n",
    "$2 \\cdot \\frac{Recall \\cdot Precision}{Recall + Precision}$\n",
    "\n",
    "#### Support\n",
    "\n",
    "Anzahl, wie oft Objekte dieser Klasse vorkommen.\n",
    "\n",
    "Zuerst betrachten wir den Report des schlechtesten Modells:"
   ]
  },
  {
   "cell_type": "code",
   "execution_count": 38,
   "metadata": {},
   "outputs": [
    {
     "name": "stdout",
     "output_type": "stream",
     "text": [
      "                   precision    recall  f1-score   support\n",
      "\n",
      "     Anderes Haus       0.01      0.33      0.02         3\n",
      "    Attikawohnung       0.10      0.45      0.17       620\n",
      "       Doppelhaus       0.17      0.47      0.25       846\n",
      "             Haus       0.79      0.42      0.55      5007\n",
      "      Loftwohnung       0.06      0.44      0.11        48\n",
      "Maisonettewohnung       0.11      0.40      0.18       583\n",
      " Mehrfamilienhaus       0.04      0.33      0.07        36\n",
      "       Reihenhaus       0.14      0.43      0.21       417\n",
      "     Terassenhaus       0.08      0.50      0.13        56\n",
      "          Wohnung       0.92      0.37      0.53      7741\n",
      "           Zimmer       0.00      0.00      0.00         5\n",
      "\n",
      "         accuracy                           0.40     15362\n",
      "        macro avg       0.22      0.38      0.20     15362\n",
      "     weighted avg       0.74      0.40      0.48     15362\n",
      "\n"
     ]
    }
   ],
   "source": [
    "print(sklearn.metrics.classification_report(y_test, knn_y_pred_smote))"
   ]
  },
  {
   "cell_type": "markdown",
   "metadata": {},
   "source": [
    "Vergleicht man die Werte unter Precision miteinander, fällt direkt auf, wie ungleich sie sind. *Wohnung* und *Haus* haben mit Abstand die beiden besten Werte, 0.90 und 0.78. Beim Support sieht man, was am Anfang der Analyse schon deutlich wurde: es gibt eine extreme Ungleichheit in der Vorkommenshäufigkeit der Klassen. Da wir unsere Trainings- und Testdaten vor dem Resampling aufteilen, existiert diese Ungleichheit hier immernoch. Wir hätten die Testdaten auch resamplen können, haben uns aber bewusst dagegen entschieden. So können wir eine Performance auf realistischen Daten messen."
   ]
  },
  {
   "cell_type": "code",
   "execution_count": 39,
   "metadata": {},
   "outputs": [
    {
     "data": {
      "image/png": "[encoded data removed]",
      "text/plain": [
       "<Figure size 720x360 with 1 Axes>"
      ]
     },
     "metadata": {
      "needs_background": "light"
     },
     "output_type": "display_data"
    }
   ],
   "source": [
    "y_test.value_counts().plot(kind='bar', figsize=(10, 5), rot = 90)\n",
    "plt.xlabel(\"Kategorie\")\n",
    "plt.ylabel(\"Anzahl Objekte\")\n",
    "plt.title(\"Wohnobjekte pro Kategorie in den Testdaten\")\n",
    "plt.show()"
   ]
  },
  {
   "cell_type": "markdown",
   "metadata": {},
   "source": [
    "Aus diesem Grund ist die Precision in diesen beiden Kategorien so viel höher als bei den anderen.\n",
    "\n",
    "Beim Recall sieht es etwas anders aus. Da in diesem die False Negatives mit einfliessen, liegen die Werte näher beieinander. Er beschreibt wie viele, der als richtig klassifizierten Objekte, tatsächlich richtig klassifiziert worden sind. Bei der Kategorie *Wohnung* ist der Wert mit 0.37 eher niederig. Die Erklärung hierfür ist, dass das Model durch die Klassenungleichheit in den Trainingsdaten einen starken Bias entwickelt. Darum werden viele Nicht-Wohnungen als Wohnungen klassifiziert.\n",
    "\n",
    "Der F1-Score ist das harmonische Mittel von Precision und Recall, er zieht also False Positives und False Negatives mit in Betracht. Hier haben die beiden Kategorien *Haus* und *Wohnung* wieder die besten Scores. Grund hierfür ist der unterliegende gute Wert der Precision."
   ]
  },
  {
   "cell_type": "markdown",
   "metadata": {},
   "source": [
    "## Bestes Modell"
   ]
  },
  {
   "cell_type": "code",
   "execution_count": 40,
   "metadata": {},
   "outputs": [
    {
     "name": "stdout",
     "output_type": "stream",
     "text": [
      "                   precision    recall  f1-score   support\n",
      "\n",
      "     Anderes Haus       0.00      0.00      0.00         3\n",
      "    Attikawohnung       0.32      0.69      0.43       620\n",
      "       Doppelhaus       0.38      0.60      0.47       846\n",
      "             Haus       0.92      0.79      0.85      5007\n",
      "      Loftwohnung       0.35      0.50      0.41        48\n",
      "Maisonettewohnung       0.28      0.58      0.37       583\n",
      " Mehrfamilienhaus       0.27      0.58      0.37        36\n",
      "       Reihenhaus       0.40      0.60      0.48       417\n",
      "     Terassenhaus       0.60      0.54      0.57        56\n",
      "          Wohnung       0.95      0.78      0.86      7741\n",
      "           Zimmer       0.00      0.00      0.00         5\n",
      "\n",
      "         accuracy                           0.75     15362\n",
      "        macro avg       0.41      0.51      0.44     15362\n",
      "     weighted avg       0.84      0.75      0.78     15362\n",
      "\n"
     ]
    }
   ],
   "source": [
    "print(sklearn.metrics.classification_report(y_test, lgbc_y_pred_best))"
   ]
  },
  {
   "cell_type": "markdown",
   "metadata": {},
   "source": [
    "Bei der Precision fällt direkt auf, dass die Werte näher beieinander liegen als voher. *Wohnung* und *Haus* sind immer noch oben mit dabei, aber jetzt gibt es sogar noch eine bessere Kategorie. *Anderes Haus* hat eine Precision von 1.00! Wenn man sich aber den Recall anschaut, sieht man, dass diese Klassifikation nicht perfekt ist. Die Precision von 1.00 sagt uns, dass es keine False Positives gibt. Der Recall sagt uns aber, dass es False Negatives gibt. Für die Werte 1.00 und 0.33 bei einer Gesamtzahl von 3 Objekten in dieser Kategorie bedeutet das: 1 Objekt wurde richtigerweise als *Anderes Haus* klassifiert und 2 aus der Kategorie wurden falsch eingeordnet.\n",
    "\n",
    "Betrachtet man den F1-Score, haben sich die Werte in jeder Kategorie drastisch verbessert. *Haus* und *Wohnung* sind immer noch die beiden besten Kategorien, jedoch sind alle anderen Werte jetzt viel näher dran."
   ]
  },
  {
   "cell_type": "markdown",
   "metadata": {},
   "source": [
    "## Confusion Matrix\n",
    "\n",
    "Die Matrix ist über die *richtigen* Klassifizierungen hinweg normalisiert. Das bedeutet, dass die Werte in jeder Zeile in der Matrix zusammenaddiert 1.0 ergeben. Man kann herauslesen, wie viele Objekte (prozentual) in welche andere Klasse eingeordnet wurden. \n",
    "\n",
    "Beispiel: *Anderes Haus* in der ersten Zeile. Wir sehen im Schnittpunkt von *Anderes Haus* auf der x-Achse und *Anderes Haus* auf der y-Achse einen Wert von 0.33. Das bedeutet ein Drittel der Objekte wurden auch so klassifiziert. Bei *Doppel Haus* auf der x-Achse und *Anderes Haus* auf der y-Achse sieht man, ein weiteres Drittel wurde fälschlicherweise als *Doppelhaus* klassifiziert.\n",
    "\n",
    "Insgesammt kann man sehen, dass die meisten Objekte der jeweiligen Klasse korrekt eingestuft worden sind (Diagonale von links oben nach rechts unten). Trotzdem werden viele Objekte noch falsch und überall verteilt eingeordnet."
   ]
  },
  {
   "cell_type": "code",
   "execution_count": 41,
   "metadata": {},
   "outputs": [
    {
     "data": {
      "image/png": "[encoded data removed]",
      "text/plain": [
       "<Figure size 720x720 with 2 Axes>"
      ]
     },
     "metadata": {
      "needs_background": "light"
     },
     "output_type": "display_data"
    }
   ],
   "source": [
    "fig, ax = plt.subplots(figsize=(10, 10))\n",
    "sklearn.metrics.plot_confusion_matrix(knn_smote, X_test, y_test, normalize = 'true', xticks_rotation='vertical', ax = ax)\n",
    "plt.title('Confusion Matrix schlechtestes Modell (KNN)')\n",
    "plt.show()"
   ]
  },
  {
   "cell_type": "markdown",
   "metadata": {},
   "source": [
    "Beim besten Modell sieht das etwas anders aus. Insgesamt ist die Streuung der falsch klassifizierten Objekte kleiner geworden. Es gibt aber einige (nachvollziehbare) Ausreisser: \n",
    "\n",
    "- 67% der Kategorie *Anderes Haus* wurden als *Haus* klassifiziert\n",
    "- 86% der *Zimmer* wurden als *Wohnung* eingeordnet."
   ]
  },
  {
   "cell_type": "code",
   "execution_count": 42,
   "metadata": {},
   "outputs": [
    {
     "data": {
      "text/plain": [
       "Text(0.5, 1.0, 'Confusion Matrix optimiertes Modell (LightGBM)')"
      ]
     },
     "execution_count": 42,
     "metadata": {},
     "output_type": "execute_result"
    },
    {
     "data": {
      "image/png": "[encoded data removed]",
      "text/plain": [
       "<Figure size 720x720 with 2 Axes>"
      ]
     },
     "metadata": {
      "needs_background": "light"
     },
     "output_type": "display_data"
    }
   ],
   "source": [
    "fig, ax = plt.subplots(figsize=(10, 10))\n",
    "sklearn.metrics.plot_confusion_matrix(lgbc_best, X_test, y_test, normalize = 'true', xticks_rotation='vertical', ax = ax)\n",
    "plt.title('Confusion Matrix optimiertes Modell (LightGBM)')"
   ]
  },
  {
   "cell_type": "markdown",
   "metadata": {},
   "source": [
    "Alles in allem kann man sehen, dass sich die verschiedenen Optimierungstechnicken (Resampling, Hyperparamether tuning) ausgezahlt haben."
   ]
  }
 ],
 "metadata": {
  "deepnote_execution_queue": [],
  "deepnote_notebook_id": "e0c28dcd-d7ce-49c8-98d9-c42ccf18b1ef",
  "kernelspec": {
   "display_name": "Python 3",
   "language": "python",
   "name": "python3"
  },
  "language_info": {
   "codemirror_mode": {
    "name": "ipython",
    "version": 3
   },
   "file_extension": ".py",
   "mimetype": "text/x-python",
   "name": "python",
   "nbconvert_exporter": "python",
   "pygments_lexer": "ipython3",
   "version": "3.8.5"
  },
  "toc-autonumbering": true,
  "toc-showcode": false,
  "toc-showmarkdowntxt": false,
  "toc-showtags": false
 },
 "nbformat": 4,
 "nbformat_minor": 4
}
